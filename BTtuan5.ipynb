{
 "cells": [
  {
   "cell_type": "code",
   "execution_count": 3,
   "id": "5032d3f4-d419-4a67-bd70-e608a871127b",
   "metadata": {},
   "outputs": [
    {
     "name": "stdout",
     "output_type": "stream",
     "text": [
      "rsecwyadrkd\n",
      "reward\n",
      "drawer\n"
     ]
    }
   ],
   "source": [
    "#----------------------TỔNG QUAN VỀ CHUỖI-----------------------------\n",
    "\n",
    "# 1.Cắt chuỗi\n",
    "# ví dụ 1\n",
    "# Cho chuỗi sau\n",
    "\n",
    "two_ways = \"rsecwyadrkd\"\n",
    "print(two_ways)\n",
    "\n",
    "# trích xuất từng kí tự thứ 2\n",
    "# từ đầu đến cuối và bước nhảy là 2\n",
    "\n",
    "print(two_ways[::2])\n",
    "\n",
    "# • Trích xuất từng ký tự thứ hai và đảo ngược kết quả:\n",
    "# từ cuối lên đầu theo chiều âm, bước nhảy 2\n",
    "\n",
    "print(two_ways[::-2])"
   ]
  },
  {
   "cell_type": "code",
   "execution_count": 6,
   "id": "4fa486ed-061d-47f6-a0e0-cc92dcc3283f",
   "metadata": {},
   "outputs": [
    {
     "name": "stdout",
     "output_type": "stream",
     "text": [
      "cười vui\n",
      ":)):)):)):)):))\n"
     ]
    }
   ],
   "source": [
    "# 2. Các phép toán \"số học\" trên chuỗi\n",
    "# • Nối chuỗi hai chuỗi:\n",
    "\n",
    "a=\"cười \"\n",
    "b=\"vui\"\n",
    "combo = a + b\n",
    "print(combo)\n",
    "\n",
    "# • Sao chép một chuỗi 5 lần:\n",
    "mot= \":))\"\n",
    "nam = mot * 5\n",
    "print(nam)"
   ]
  },
  {
   "cell_type": "code",
   "execution_count": 18,
   "id": "d035cab5-fae9-4b3f-9550-0910415fd589",
   "metadata": {},
   "outputs": [
    {
     "name": "stdout",
     "output_type": "stream",
     "text": [
      "I like cooking, my family and my friend\n",
      "U like cooking, my family and my friend\n",
      "I like cooking, my family and my friend\n",
      "['', ' like cooking, my family and my friend']\n",
      "U like cooking, my family and my friend\n",
      "I like cooking, my family and my friend\n",
      "I like cooking my family and my friend\n"
     ]
    }
   ],
   "source": [
    "# 3. Thay thế hoặc xóa chuỗi con\n",
    "# • Cho chuỗi sau:\n",
    "\n",
    "favorites = \"I like cooking, my family and my friend\"\n",
    "print(favorites)\n",
    "\n",
    "#• Làm lại nhiệm vụ tương tự bằng cách sử dụng cắt và nối:\n",
    "from_position = favorites [1:] # xóa phần tử đầu tiên\n",
    "favorites = \"U\" + from_position # nối U vào\n",
    "print(favorites)\n",
    "\n",
    "# • Làm lại cùng một tác vụ bằng phương thức chuỗi .split():\n",
    "\n",
    "favorites = \"I like cooking, my family and my friend\"\n",
    "print(favorites)\n",
    "\n",
    "part = favorites.split(\"I\") # cắt bỏ chữ I\n",
    "print(part)\n",
    "\n",
    "favorites = \"U\" + part[1] # nối U\n",
    "print(favorites)\n",
    "\n",
    "# • Thay thế dấu phẩy bằng dấu chấm phẩy bằng phương thức chuỗi: .replace():\n",
    "\n",
    "favorites = \"I like cooking, my family and my friend\"\n",
    "favorites = favorites.replace(\",\", \",\")\n",
    "print(favorites)\n",
    "\n",
    "# • Bỏ dấu phẩy:\n",
    "\n",
    "favorites = \"I like cooking, my family and my friend\"\n",
    "favorites = favorites.replace(\",\", \"\")\n",
    "print(favorites)"
   ]
  },
  {
   "cell_type": "code",
   "execution_count": 23,
   "id": "80cd6b7c-ada5-4adf-ab93-0f073db48f26",
   "metadata": {},
   "outputs": [
    {
     "name": "stdout",
     "output_type": "stream",
     "text": [
      "we are\n",
      "1\n",
      "[1, 5]\n",
      "-1\n"
     ]
    }
   ],
   "source": [
    "# 4. Tìm kiếm một chuỗi con trong một chuỗi\n",
    "# • Cho chuỗi sau:\n",
    "\n",
    "us = \"we are\"\n",
    "print(us)\n",
    "\n",
    "# • Tìm vị trí của ký tự e bằng phương thức .find():\n",
    "\n",
    "position = us.find(\"e\")\n",
    "print(position)\n",
    "\n",
    "# • Tìm vị trí của ký tự e bằng một cách khác:\n",
    "\n",
    "#khởi tạo dãy vị trí\n",
    "position = []\n",
    "# tìm tất cả\n",
    "for i in range(len(us)):\n",
    "    if us[i] == \"e\":\n",
    "        position.append(i)\n",
    "print(position)\n",
    "\n",
    "# • Tìm vị trí của ký tự f bằng phương thức .find():\n",
    "\n",
    "position = us.find(\"f\")\n",
    "print(position)\n",
    "\n"
   ]
  },
  {
   "cell_type": "code",
   "execution_count": 25,
   "id": "332c0667-5a8a-4892-919e-07041c12025c",
   "metadata": {},
   "outputs": [
    {
     "name": "stdout",
     "output_type": "stream",
     "text": [
      "I like going to the movie, traveling, and singing\n",
      "4\n"
     ]
    }
   ],
   "source": [
    "# 5. Đếm số chuỗi con trong một chuỗi\n",
    "# • Cho chuỗi sau:\n",
    "hobbies = \"I like going to the movie, traveling, and singing\"\n",
    "print(hobbies)\n",
    "\n",
    "# • Đếm số lượng chuỗi con bằng phương thức .count():\n",
    "demcuoi = hobbies.count(\"ing\")\n",
    "print(demcuoi)"
   ]
  },
  {
   "cell_type": "code",
   "execution_count": 28,
   "id": "e7f165f9-8514-4f3d-8001-def6a69194a1",
   "metadata": {},
   "outputs": [
    {
     "name": "stdout",
     "output_type": "stream",
     "text": [
      "How are you\n",
      "['How', 'are', 'you']\n",
      "How are you\n"
     ]
    }
   ],
   "source": [
    "# 6. Chuỗi vào danh sách và ngược lại\n",
    "# • Cho chuỗi sau:\n",
    "string = \"How are you\"\n",
    "print(string)\n",
    "\n",
    "# • Chuyển đổi chuỗi thành danh sách các chuỗi trong đó mỗi phần tử là một từ:\n",
    "list = string.split()\n",
    "print(list)\n",
    "\n",
    "# • Chuyển đổi danh sách các chuỗi thành chuỗi bằng phương thức .join():\n",
    "#thêm khoảng trắng giữa các thành phần\n",
    "string_list = \" \".join(list)\n",
    "print(string_list)"
   ]
  },
  {
   "cell_type": "code",
   "execution_count": 30,
   "id": "da922c3b-ab6a-4b4f-9aea-a29b646bef21",
   "metadata": {},
   "outputs": [
    {
     "name": "stdout",
     "output_type": "stream",
     "text": [
      "Xin chào! Chúng tôi là DHV\n",
      "XIN CHÀO! CHÚNG TÔI LÀ DHV\n",
      "xin chào! chúng tôi là dhv\n",
      "Xin chào! chúng tôi là dhv\n",
      "Xin Chào! Chúng Tôi Là Dhv\n",
      "xIN CHÀO! cHÚNG TÔI LÀ dhv\n"
     ]
    }
   ],
   "source": [
    "# 7. Thay đổi kiểu chữ\n",
    "# • Cho chuỗi ký tự sau:\n",
    "loichao = \"Xin chào! Chúng tôi là DHV\"\n",
    "print(loichao)\n",
    "\n",
    "\n",
    "# • Sửa đổi chuỗi thành chữ hoa và chữ thường; chỉ đổi ký tự đầu tiên của chuỗi thành chữ hoa, sau đó là từng từ trong chuỗi; cuối cùng, đảo ngược các trường hợp:\n",
    "# in hoa\n",
    "print(loichao.upper())\n",
    "# in thường\n",
    "print(loichao.lower())\n",
    "# viết hoa chữ cái đầu\n",
    "print(loichao.capitalize())\n",
    "# viết hoa chữ cái đầu tiên mỗi chữ\n",
    "print(loichao.title())\n",
    "#hoán đổi hoa thành thường, ngược lại\n",
    "print(loichao.swapcase())"
   ]
  },
  {
   "cell_type": "code",
   "execution_count": 52,
   "id": "1a391890-07cd-44d1-b42b-eb565953ae0a",
   "metadata": {},
   "outputs": [
    {
     "name": "stdout",
     "output_type": "stream",
     "text": [
      "morning\n",
      "Good morning !\n",
      "Good morning !\n",
      "Good morning !\n",
      "Good morning !\n",
      "-----------------------------------------------------------------------\n",
      "morning\n",
      "10\n",
      "Good morning!\n",
      "It's 10a.m.\n",
      "\n",
      "Good morning !\n",
      "It's 10 a.m.\n",
      "\n",
      "Good morning!\n",
      "It's 10 a.m.\n",
      "\n",
      "Good morning!It's 10 a.m.\n",
      "-----------------------------------------------------------------------\n",
      "1.23456\n",
      "Giá trị là 1.23\n",
      "Giá trị là 1.23\n",
      "Giá trị là 1.23\n",
      "Giá trị là 1.23\n"
     ]
    }
   ],
   "source": [
    "# 8. In biến\n",
    "# • Cho chuỗi sau:\n",
    "chaosang = \"morning\"\n",
    "print(chaosang)\n",
    "\n",
    "# • In ra Good morning! theo 4 cách khác nhau, sử dụng (1) nối chuỗi, (2) phân tách bằng dấu phẩy, (3) phương thức .format() và (4) chuỗi f:\n",
    "# nối chữ +\n",
    "print(\"Good \" + chaosang + \" !\")\n",
    "\n",
    "# dùng phẩy\n",
    "print(\"Good\", chaosang,\"!\")\n",
    "\n",
    "#the method .format()\n",
    "print(\"Good {} !\".format(chaosang))\n",
    "\n",
    "#f-string\n",
    "print(f\"\"\"Good {chaosang} !\"\"\")\n",
    "\n",
    "print(\"-----------------------------------------------------------------------\")\n",
    "\n",
    "# Nếu chúng ta muốn in một chuỗi kết hợp với một biến số thì sao?\n",
    "# • Cho một chuỗi và một biến số:\n",
    "chaosang = \"morning\"\n",
    "thoigian = 10\n",
    "print(chaosang)\n",
    "print(thoigian)\n",
    "\n",
    "# • In\n",
    "# Good morning!\n",
    "# It's 10a.m\n",
    "\n",
    "#(1) nối chữ +\n",
    "\n",
    "print(\"Good \" + chaosang + \"!\\nIt's \" + str(thoigian) + \"a.m.\\n\")\n",
    "\n",
    "#(2) use the string \",\"\n",
    "\n",
    "print(\"Good\", chaosang, \"!\\nIt's\"\n",
    "      , str(thoigian), \"a.m.\\n\")\n",
    "\n",
    "# (3) the method .format()\n",
    "\n",
    "print(\"Good {}!\\nIt's {} a.m.\\n\".format(chaosang, thoigian))\n",
    "\n",
    "# (4) f-strings\n",
    "\n",
    "print(f\"\"\"Good {chaosang}!It's {thoigian} a.m.\"\"\")\n",
    "\n",
    "print(\"-----------------------------------------------------------------------\")\n",
    "\n",
    "# Vậy còn việc in số với số thập phân ít hơn thì sao?\n",
    "# • Cho biến số sau:\n",
    "giatri = 1.23456\n",
    "print(giatri)\n",
    "\n",
    "#• In Số là 1,23—chỉ lưu ý hai chữ số thập phân đầu tiên—sử dụng bốn phương pháp trên:\n",
    "#(1) Nối chữ +\n",
    "\n",
    "print(\"Giá trị là \" + str(round(giatri, 2)))\n",
    "\n",
    "#(2) dùng dấy\",\n",
    "\n",
    "print(\"Giá trị là\",str(round(giatri, 2)))\n",
    "\n",
    "# (3) phương thức .format()\n",
    "\n",
    "print(\"Giá trị là {:.2f}\".format(giatri))\n",
    "\n",
    "# (4) dây f\n",
    "\n",
    "print (f\"\"\"Giá trị là {giatri:.2f}\"\"\")\n",
    "\n"
   ]
  },
  {
   "cell_type": "code",
   "execution_count": 54,
   "id": "d2ebd53f-af10-46c7-94e4-85db89b854a1",
   "metadata": {},
   "outputs": [
    {
     "name": "stdout",
     "output_type": "stream",
     "text": [
      "a: who believe in the beauty of their dreams - Eleanor Roosevelt\n",
      "b: who believe in the beauty of their dreams - Eleanor Roosevelt\n",
      "c: who believe in the beauty of their dreams - Eleanor Roosevelt\n",
      "d: who believe in the beauty of their dreams - Eleanor Roosevelt\n",
      "e: who it's done - Eleanor Roosevelt\n",
      "f: who it's done - Nelson Mandela\n",
      "g: It always who it's done - Nelson Mandela\n"
     ]
    }
   ],
   "source": [
    "# BÀI TẬP ÁP DUNG\n",
    "# . Cho chuỗi ký tự sau:\n",
    "quote = \"The future belongs to those who believe in the beauty of their dreams - Eleanor Roosevelt\"\n",
    "\n",
    "# a. Xóa đến \"who\"\n",
    "index = quote.find(\"who\")\n",
    "quote = quote[index:]  # Cắt chuỗi từ \"who\" trở đi\n",
    "print(\"a:\", quote)\n",
    "\n",
    "# b. Thay thế \"belongs\" bằng \"until\"\n",
    "quote = quote.replace(\"belongs\", \"until\")\n",
    "print(\"b:\", quote)\n",
    "\n",
    "# c. Thêm \"seems impossible\" sau \"future\"\n",
    "quote = quote.replace(\"future\", \"future seems impossible\")\n",
    "print(\"c:\", quote)\n",
    "\n",
    "# d. Xóa \"The future\"\n",
    "quote = quote.replace(\"The future\", \"\")\n",
    "print(\"d:\", quote)\n",
    "\n",
    "# e. Thay thế \"believe in the beauty of their dreams\" bằng \"it's done\"\n",
    "quote = quote.replace(\"believe in the beauty of their dreams\", \"it's done\")\n",
    "print(\"e:\", quote)\n",
    "\n",
    "# f. Thay thế \"Eleanor Roosevelt\" bằng \"Nelson Mandela\"\n",
    "quote = quote.replace(\"Eleanor Roosevelt\", \"Nelson Mandela\")\n",
    "print(\"f:\", quote)\n",
    "\n",
    "# g. Thêm \"It always\" vào đầu chuỗi\n",
    "quote = \"It always \" + quote\n",
    "print(\"g:\", quote)\n"
   ]
  },
  {
   "cell_type": "code",
   "execution_count": 56,
   "id": "524e7091-5359-4284-8454-323808bab3fc",
   "metadata": {},
   "outputs": [
    {
     "name": "stdout",
     "output_type": "stream",
     "text": [
      "Các ký tự chung: ['p', 'n', 'o', 'e']\n",
      "\n",
      "Số lần xuất hiện trong dessert (từ điển): {'p': 1, 'n': 2, 'o': 1, 'e': 4}\n",
      "\n",
      "Số lần xuất hiện trong dessert (chuỗi): {'p': 1, 'n': 2, 'o': 1, 'e': 4}\n"
     ]
    }
   ],
   "source": [
    "# 2. . Cho các chuỗi sau:\n",
    "dessert = \"lemon meringue pie\"\n",
    "sweet = \"honeypot\"\n",
    "\n",
    "# a. Tìm các ký tự chung giữa dessert và sweet\n",
    "common_chars = [char for char in set(dessert) if char in set(sweet)]\n",
    "print(\"Các ký tự chung:\", common_chars)\n",
    "\n",
    "# b. Đếm số lần xuất hiện của các ký tự chung trong dessert\n",
    "# Phương pháp 1: Dùng từ điển\n",
    "char_count_dict = {char: dessert.count(char) for char in common_chars}\n",
    "print(\"\\nSố lần xuất hiện trong dessert (từ điển):\", char_count_dict)\n",
    "\n",
    "# Phương pháp 2: Dùng chuỗi (giống như trên)\n",
    "char_count_str = {}\n",
    "for char in common_chars:\n",
    "    char_count_str[char] = dessert.count(char)\n",
    "print(\"\\nSố lần xuất hiện trong dessert (chuỗi):\", char_count_str)\n"
   ]
  },
  {
   "cell_type": "code",
   "execution_count": 57,
   "id": "d872bbf5-d913-4a22-9917-e189e5fb71b6",
   "metadata": {},
   "outputs": [
    {
     "name": "stdout",
     "output_type": "stream",
     "text": [
      "Các từ đối xứng: ['noon', 'dad', 'otto', 'kayak', 'wow']\n"
     ]
    }
   ],
   "source": [
    "# 3. Từ đối xứng. Từ đối xứng là những từ đọc xuôi hay ngược đều giống nhau, chẳng hạn như anna hoặc madam. Cho danh sách các chuỗi sau:\n",
    "words = [\"noon\", \"dog\", \"dad\", \"elephant\", \"jungle\", \"otto\", \"night\", \"bright\", \"kayak\", \"yeah\", \"wow\"]\n",
    "\n",
    "# Lọc các từ đối xứng\n",
    "palindromes = [word for word in words if word == word[::-1]]\n",
    "\n",
    "print(\"Các từ đối xứng:\", palindromes)\n"
   ]
  },
  {
   "cell_type": "code",
   "execution_count": null,
   "id": "aaed91b6-db74-476d-8242-b7a02defa528",
   "metadata": {},
   "outputs": [],
   "source": []
  }
 ],
 "metadata": {
  "kernelspec": {
   "display_name": "Python [conda env:base] *",
   "language": "python",
   "name": "conda-base-py"
  },
  "language_info": {
   "codemirror_mode": {
    "name": "ipython",
    "version": 3
   },
   "file_extension": ".py",
   "mimetype": "text/x-python",
   "name": "python",
   "nbconvert_exporter": "python",
   "pygments_lexer": "ipython3",
   "version": "3.13.5"
  }
 },
 "nbformat": 4,
 "nbformat_minor": 5
}
