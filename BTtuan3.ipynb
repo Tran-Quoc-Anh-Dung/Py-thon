{
 "cells": [
  {
   "cell_type": "code",
   "execution_count": 3,
   "id": "7a6c2f0a-94e8-4da4-b9f6-4b6764134325",
   "metadata": {},
   "outputs": [
    {
     "name": "stdout",
     "output_type": "stream",
     "text": [
      "Chương trình tính diện tích Tam Giác\n"
     ]
    },
    {
     "name": "stdin",
     "output_type": "stream",
     "text": [
      "Nhập cạnh a>0: 5\n",
      "Nhập cạnh b>0: 6\n",
      "Nhập cạnh c>0: 7\n"
     ]
    },
    {
     "name": "stdout",
     "output_type": "stream",
     "text": [
      "Diện tích = 14.696938456699069\n"
     ]
    }
   ],
   "source": [
    "#Câu 1: Viết hàm để Tính diện tích tam giác\n",
    "# Nhập thư viện math để sử dụng hàm sqrt (căn bậc hai)\n",
    "from math import sqrt\n",
    "\n",
    "# In ra tiêu đề chương trình\n",
    "print(\"Chương trình tính diện tích Tam Giác\")\n",
    "\n",
    "# Nhập các cạnh của tam giác từ người dùng và chuyển thành kiểu số thực (float)\n",
    "a = float(input(\"Nhập cạnh a>0:\"))\n",
    "b = float(input(\"Nhập cạnh b>0:\"))\n",
    "c = float(input(\"Nhập cạnh c>0:\"))\n",
    "\n",
    "# Kiểm tra điều kiện hợp lệ của tam giác\n",
    "if (a <= 0 or b <= 0 or c <= 0) or (a + b <= c or a + c <= b or b + c <= a):\n",
    "    # Nếu một trong các cạnh không hợp lệ (<= 0) hoặc không thỏa mãn định lý tam giác (Tổng hai cạnh lớn hơn cạnh còn lại)\n",
    "    print(\"Tam giác không hợp lệ\")\n",
    "else:\n",
    "    # Tính chu vi của tam giác\n",
    "    cv = a + b + c\n",
    "    \n",
    "    # Tính nửa chu vi (p) để dùng trong công thức tính diện tích\n",
    "    p = cv / 2\n",
    "    \n",
    "    # Áp dụng công thức Heron để tính diện tích tam giác:\n",
    "    # Diện tích = sqrt(p * (p - a) * (p - b) * (p - c))\n",
    "    dt = sqrt(p * (p - a) * (p - b) * (p - c))\n",
    "    \n",
    "    # In ra diện tích của tam giác\n",
    "    print(\"Diện tích =\", dt)\n"
   ]
  },
  {
   "cell_type": "code",
   "execution_count": 7,
   "id": "02487587-ce5f-4c42-a5c0-950aeb596208",
   "metadata": {},
   "outputs": [
    {
     "name": "stdin",
     "output_type": "stream",
     "text": [
      "Máy đoán [1..100], mời bạn đoán: 50\n"
     ]
    },
    {
     "name": "stdout",
     "output_type": "stream",
     "text": [
      "Bạn đoán lần thứ  1\n",
      "Bạn đoán sai, số máy > số bạn\n"
     ]
    },
    {
     "name": "stdin",
     "output_type": "stream",
     "text": [
      "Máy đoán [1..100], mời bạn đoán: 75\n"
     ]
    },
    {
     "name": "stdout",
     "output_type": "stream",
     "text": [
      "Bạn đoán lần thứ  2\n",
      "Bạn đoán sai, số máy > số bạn\n"
     ]
    },
    {
     "name": "stdin",
     "output_type": "stream",
     "text": [
      "Máy đoán [1..100], mời bạn đoán: 87\n"
     ]
    },
    {
     "name": "stdout",
     "output_type": "stream",
     "text": [
      "Bạn đoán lần thứ  3\n",
      "Bạn đoán sai, số máy > số bạn\n"
     ]
    },
    {
     "name": "stdin",
     "output_type": "stream",
     "text": [
      "Máy đoán [1..100], mời bạn đoán: 93\n"
     ]
    },
    {
     "name": "stdout",
     "output_type": "stream",
     "text": [
      "Bạn đoán lần thứ  4\n",
      "Bạn đoán sai, số máy > số bạn\n"
     ]
    },
    {
     "name": "stdin",
     "output_type": "stream",
     "text": [
      "Máy đoán [1..100], mời bạn đoán: 96\n"
     ]
    },
    {
     "name": "stdout",
     "output_type": "stream",
     "text": [
      "Bạn đoán lần thứ  5\n",
      "Bạn đoán sai, số máy > số bạn\n"
     ]
    },
    {
     "name": "stdin",
     "output_type": "stream",
     "text": [
      "Máy đoán [1..100], mời bạn đoán: 98\n"
     ]
    },
    {
     "name": "stdout",
     "output_type": "stream",
     "text": [
      "Bạn đoán lần thứ  6\n",
      "Bạn đoán sai, số máy < số bạn\n"
     ]
    },
    {
     "name": "stdin",
     "output_type": "stream",
     "text": [
      "Máy đoán [1..100], mời bạn đoán: 97\n"
     ]
    },
    {
     "name": "stdout",
     "output_type": "stream",
     "text": [
      "Bạn đoán lần thứ  7\n",
      "Chúc mừng bạn đoán đúng, số máy là= 97\n"
     ]
    },
    {
     "name": "stdin",
     "output_type": "stream",
     "text": [
      "Tiếp không? k\n"
     ]
    },
    {
     "name": "stdout",
     "output_type": "stream",
     "text": [
      "Cám ơn bạn đã chơi Game!\n"
     ]
    }
   ],
   "source": [
    "#Câu 2: Viết Hàm để chơi Game Đoán Số\n",
    "#Máy ra 1 số trong đoạn [1...100]\n",
    "#Người chơi đoán số, chỉ được phép đoán sai 7 lần. Mỗi lần đoán sẽ thông báo số người chơi đoán nhỏ hơn hay lớn hơn số của mày và hiển thị số lần đoán\n",
    "#Game kết thúc khi: Đoán sai quá 7 lần hoặc đoán trúng trước 7 lần.\n",
    "#Sau khi game kết thúc hỏi người chơi có tiếp tục hay không?\n",
    "\n",
    "# Import thư viện random để tạo số ngẫu nhiên\n",
    "from random import randrange\n",
    "\n",
    "# Vòng lặp chính cho phép người chơi tiếp tục chơi hoặc dừng sau mỗi ván\n",
    "while True:\n",
    "    # Tạo một số ngẫu nhiên từ 1 đến 100 (số máy đoán)\n",
    "    somay = randrange(1, 101)\n",
    "    \n",
    "    # Biến để đếm số lần người chơi đoán\n",
    "    solandoan = 0\n",
    "    \n",
    "    # Biến kiểm tra xem người chơi đã đoán đúng chưa\n",
    "    win = False\n",
    "    \n",
    "    # Vòng lặp cho phép người chơi tối đa 7 lần đoán\n",
    "    while solandoan < 7:\n",
    "        # Tăng số lần đoán lên 1\n",
    "        solandoan += 1\n",
    "        \n",
    "        # Người chơi nhập vào số đoán của mình\n",
    "        songuoi = int(input(\"Máy đoán [1..100], mời bạn đoán:\"))\n",
    "        \n",
    "        # In ra thông báo về số lần đoán hiện tại\n",
    "        print(\"Bạn đoán lần thứ \", solandoan)\n",
    "        \n",
    "        # Kiểm tra nếu người chơi đoán đúng\n",
    "        if somay == songuoi:\n",
    "            print(\"Chúc mừng bạn đoán đúng, số máy là=\", somay)\n",
    "            win = True  # Đánh dấu người chơi đã thắng\n",
    "            break  # Thoát khỏi vòng lặp nếu người chơi đoán đúng\n",
    "        \n",
    "        # Nếu số máy lớn hơn số người chơi đoán\n",
    "        if somay > songuoi:\n",
    "            print(\"Bạn đoán sai, số máy > số bạn\")\n",
    "        \n",
    "        # Nếu số máy nhỏ hơn số người chơi đoán\n",
    "        elif somay < songuoi:\n",
    "            print(\"Bạn đoán sai, số máy < số bạn\")\n",
    "    \n",
    "    # Nếu người chơi không đoán đúng sau 7 lần\n",
    "    if win == False:\n",
    "        print(\"GAME OVER!, số máy =\", somay)\n",
    "    \n",
    "    # Hỏi người chơi có muốn chơi tiếp không\n",
    "    hoi = input(\"Tiếp không? (k để dừng):\")\n",
    "    \n",
    "    # Nếu người chơi nhập 'k', thoát khỏi vòng lặp chính\n",
    "    if hoi == \"k\":\n",
    "        break\n",
    "\n",
    "# In lời cảm ơn khi người chơi kết thúc trò chơi\n",
    "print(\"Cám ơn bạn đã chơi Game!\")\n",
    "\n",
    "\n"
   ]
  },
  {
   "cell_type": "code",
   "execution_count": 5,
   "id": "deb84668-d463-4b8d-b535-b0e9c5cf7b42",
   "metadata": {},
   "outputs": [
    {
     "name": "stdout",
     "output_type": "stream",
     "text": [
      "Nhập vào chiều cao: (m)\n"
     ]
    },
    {
     "name": "stdin",
     "output_type": "stream",
     "text": [
      " 1.8\n"
     ]
    },
    {
     "name": "stdout",
     "output_type": "stream",
     "text": [
      "Nhập vào cân nặng: (kg)\n"
     ]
    },
    {
     "name": "stdin",
     "output_type": "stream",
     "text": [
      " 55\n"
     ]
    },
    {
     "name": "stdout",
     "output_type": "stream",
     "text": [
      "BMI của bạn = 16.975308641975307\n",
      "Phân loại bạn = Gầy\n",
      "Nguy cơ bệnh của Bạn = Thấp\n"
     ]
    }
   ],
   "source": [
    "#Câu 3 : Viết Hàm tính BMI\n",
    "\n",
    "# Hàm tính chỉ số BMI (Body Mass Index) từ chiều cao và cân nặng\n",
    "def BMI(height, weight):\n",
    "    # Công thức tính BMI: BMI = weight / (height^2)\n",
    "    return weight / (height ** 2)\n",
    "\n",
    "# Hàm phân loại BMI để xác định tình trạng cơ thể\n",
    "def PhanLoai(bmi):\n",
    "    # Phân loại BMI theo các nhóm chuẩn của WHO\n",
    "    if bmi < 18.5:\n",
    "        return \"Gầy\"  # BMI dưới 18.5 là gầy\n",
    "    elif bmi <= 24.9:\n",
    "        return \"Bình thường\"  # BMI từ 18.5 đến 24.9 là bình thường\n",
    "    elif bmi <= 29.9:\n",
    "        return \"Hơi Béo\"  # BMI từ 25 đến 29.9 là hơi béo\n",
    "    elif bmi <= 34.9:\n",
    "        return \"Béo Phì Cấp Độ 1\"  # BMI từ 30 đến 34.9 là béo phì cấp độ 1\n",
    "    elif bmi <= 39.9:\n",
    "        return \"Béo Phì Cấp Độ 2\"  # BMI từ 35 đến 39.9 là béo phì cấp độ 2\n",
    "    else:\n",
    "        return \"Béo Phì Cấp độ 3\"  # BMI trên 40 là béo phì cấp độ 3\n",
    "\n",
    "# Hàm xác định nguy cơ bệnh dựa trên chỉ số BMI\n",
    "def NguyCoBenh(bmi):\n",
    "    # Dựa vào mức độ BMI, xác định nguy cơ bệnh\n",
    "    if bmi < 18.5:\n",
    "        return \"Thấp\"  # Nguy cơ bệnh thấp nếu BMI dưới 18.5\n",
    "    elif bmi <= 24.9:\n",
    "        return \"Trung Bình\"  # Nguy cơ bệnh trung bình nếu BMI trong khoảng bình thường\n",
    "    elif bmi <= 29.9:\n",
    "        return \"Cao\"  # Nguy cơ bệnh cao nếu BMI từ 25 đến 29.9\n",
    "    elif bmi <= 34.9:\n",
    "        return \"Cao\"  # Nguy cơ bệnh cao nếu BMI từ 30 đến 34.9\n",
    "    elif bmi <= 39.9:\n",
    "        return \"Rất cao\"  # Nguy cơ bệnh rất cao nếu BMI từ 35 đến 39.9\n",
    "    else:\n",
    "        return \"Nguy Hiểm\"  # Nguy cơ bệnh nguy hiểm nếu BMI trên 40\n",
    "\n",
    "# In ra tiêu đề yêu cầu người dùng nhập chiều cao\n",
    "print(\"Nhập vào chiều cao: (m)\")\n",
    "\n",
    "# Nhận giá trị chiều cao từ người dùng và chuyển đổi sang kiểu số thực (float)\n",
    "height = float(input())\n",
    "\n",
    "# In ra yêu cầu người dùng nhập cân nặng\n",
    "print(\"Nhập vào cân nặng: (kg)\")\n",
    "\n",
    "# Nhận giá trị cân nặng từ người dùng và chuyển đổi sang kiểu số thực (float)\n",
    "weight = float(input())\n",
    "\n",
    "# Tính chỉ số BMI bằng cách gọi hàm BMI và lưu kết quả vào biến bmi\n",
    "bmi = BMI(height, weight)\n",
    "\n",
    "# In ra giá trị BMI đã tính được\n",
    "print(\"BMI của bạn =\", bmi)\n",
    "\n",
    "# Gọi hàm PhanLoai để phân loại tình trạng cơ thể dựa trên BMI và in ra kết quả\n",
    "print(\"Phân loại bạn =\", PhanLoai(bmi))\n",
    "\n",
    "# Gọi hàm NguyCoBenh để đưa ra mức độ nguy cơ bệnh và in ra kết quả\n",
    "print(\"Nguy cơ bệnh của Bạn =\", NguyCoBenh(bmi))\n"
   ]
  },
  {
   "cell_type": "code",
   "execution_count": 5,
   "id": "e9412bc8-b9d6-403d-bd51-ab260c073294",
   "metadata": {},
   "outputs": [
    {
     "name": "stdout",
     "output_type": "stream",
     "text": [
      "Chương trình tính ROI\n"
     ]
    },
    {
     "name": "stdin",
     "output_type": "stream",
     "text": [
      "Nhập Doanh Thu: 4\n",
      "Nhập chi phí: 5\n"
     ]
    },
    {
     "name": "stdout",
     "output_type": "stream",
     "text": [
      "Tỉ Lệ ROI = -0.2\n",
      "==> Không nên đầu tư\n"
     ]
    }
   ],
   "source": [
    "#Câu 4: Viết Hàm tính ROI\n",
    "# ROI (Return On Investment), một thuật ngữ quan trọng trong marketing, mà đặc biệt là SEO, tạm dịch là tỷ lệ lợi nhuận thu được so với chi phí bạn đầu tư. Có thể hiểu ROI một cách đơn giản chính là chỉ số đo lường tỷ lệ những gì bạn thu về so với những gì bạn phải bỏ ra.\n",
    "# Hiểu đúng bản chất của ROI, bạn sẽ đo lường được hiệu quả đồng vốn đầu tư của mình cho các chi phí như quảng cáo, chạy Adwords, hay chi phí marketing online khác.\n",
    "# Vì ROI dựa vào các chỉ số cụ thể, nên nó cũng là một thước đo rất cụ thể:\n",
    "# ROI = (Doanh thu – Chi phí)/Chi phí\n",
    "# Viết chương trình cho phép người dùng nhập vào Doanh thu và Chi phí và xuất ra tỉ lệ ROI cho người dùng, đồng thời hãy cho biết nên hay không nên đầu tư dự án khi biết ROI (giả sử mức tổi thiểu ROI =0.75 thì mới đầu tư). \n",
    "\n",
    "# Hàm tính tỷ lệ lợi nhuận (ROI - Return on Investment)\n",
    "def ROI(dt, cp):\n",
    "    # ROI = (Doanh Thu - Chi Phí) / Chi Phí\n",
    "    return (dt - cp) / cp\n",
    "\n",
    "# Hàm đưa ra lời khuyên đầu tư dựa trên ROI\n",
    "def GoiYDauTu(roi):\n",
    "    # Nếu ROI >= 0.75, nghĩa là lợi nhuận vượt trội, nên đầu tư\n",
    "    if roi >= 0.75:\n",
    "        return \"Nên đầu tư\"\n",
    "    # Nếu ROI < 0.75, nghĩa là lợi nhuận thấp, không nên đầu tư\n",
    "    else:\n",
    "        return \"Không nên đầu tư\"\n",
    "\n",
    "# In ra tiêu đề chương trình\n",
    "print(\"Chương trình tính ROI\")\n",
    "\n",
    "# Nhập Doanh Thu từ người dùng và chuyển thành kiểu dữ liệu int (số nguyên)\n",
    "dt = int(input(\"Nhập Doanh Thu:\"))\n",
    "\n",
    "# Nhập Chi Phí từ người dùng và chuyển thành kiểu dữ liệu int (số nguyên)\n",
    "cp = int(input(\"Nhập chi phí:\"))\n",
    "\n",
    "# Tính tỷ lệ ROI bằng cách gọi hàm ROI và lưu kết quả vào biến roi\n",
    "roi = ROI(dt, cp)\n",
    "\n",
    "# In ra giá trị ROI đã tính được\n",
    "print(\"Tỉ Lệ ROI =\", roi)\n",
    "\n",
    "# Gọi hàm GoiYDauTu để nhận lời khuyên đầu tư dựa trên ROI, sau đó in ra kết quả\n",
    "print(\"==>\", GoiYDauTu(roi))\n",
    "\n"
   ]
  },
  {
   "cell_type": "code",
   "execution_count": 9,
   "id": "20d96cc3-f7a9-409d-bf0a-a23fe037407a",
   "metadata": {},
   "outputs": [
    {
     "name": "stdout",
     "output_type": "stream",
     "text": [
      "34\n",
      "1\t1\t2\t3\t5\t8\t13\t21\t34\t\n"
     ]
    }
   ],
   "source": [
    "# Câu 5: Viết hàm đệ qui Fibonacci\n",
    "# Dãy Số Fibonacci là dãy số có dạng:\n",
    "# 1->1->2->3->5->8->13->21->34->55->89…\n",
    "# Được định nghĩa theo công thức đệ qui như dưới đây:\n",
    "# Nếu N=1,N=2FN=1\n",
    "# N>2 FN=FN-1+FN-2\n",
    "# Hãy viết 2 hàm:\n",
    "# - Hàm trả về số Fib tại vị trí thứ N bất kỳ\n",
    "# - Hàm trả về danh sách dãy số Fib từ 1 tới N\n",
    "\n",
    "# Hàm tính số Fibonacci tại vị trí n\n",
    "def fibonacci(n):\n",
    "    # Nếu n <= 2, trả về 1 vì F(1) = 1 và F(2) = 1\n",
    "    if n <= 2:\n",
    "        return 1\n",
    "    # Nếu n > 2, tính Fibonacci theo công thức đệ quy: F(n) = F(n-1) + F(n-2)\n",
    "    return fibonacci(n-1) + fibonacci(n-2)\n",
    "\n",
    "# Hàm in ra dãy Fibonacci từ F(1) đến F(n)\n",
    "def listfibo(n):\n",
    "    # Duyệt qua tất cả các chỉ số từ 1 đến n (bao gồm cả n)\n",
    "    for i in range(1, n+1):\n",
    "        # Gọi hàm fibonacci(i) để tính số Fibonacci tại vị trí i\n",
    "        # In ra số Fibonacci tại vị trí i và ngăn cách giữa các số bằng dấu tab\n",
    "        print(fibonacci(i), end='\\t')\n",
    "    print()  # In một dòng trống sau khi in dãy số Fibonacci\n",
    "\n",
    "# In ra số Fibonacci tại vị trí thứ 9\n",
    "print(fibonacci(9))  # Kết quả sẽ là 34, vì F(9) = 34\n",
    "\n",
    "# In ra dãy Fibonacci từ F(1) đến F(9)\n",
    "listfibo(9)  # Kết quả sẽ là: 1   1   2   3   5   8   13  21  34\n",
    "\n"
   ]
  },
  {
   "cell_type": "code",
   "execution_count": 14,
   "id": "6f2f884a-d17d-4c03-81d6-6ffbc912290b",
   "metadata": {},
   "outputs": [
    {
     "name": "stdout",
     "output_type": "stream",
     "text": [
      "4.5  không thể xuất hiện.\n",
      "34  có thể xuất hiện.\n",
      "-1  không thể xuất hiện.\n",
      "100  có thể xuất hiện.\n",
      "0  có thể xuất hiện.\n",
      "99  có thể xuất hiện.\n"
     ]
    }
   ],
   "source": [
    "# Câu 6 : : Những giá trị nào có thể xuất hiện trong  randrange(0, 100)\n",
    "# Những giá trị nào có thể xuất hiện khi chạy randrange(0, 100)?\n",
    "#\t4.5 , 34 , -1,  100,  0,  99\n",
    "\n",
    "from random import randrange\n",
    "\n",
    "# Kiểm tra các giá trị có thể xuất hiện trong randrange(0, 100)\n",
    "values_check = [4.5, 34, -1, 100, 0, 99]\n",
    "\n",
    "# Kiểm tra và in ra giá trị có thể xuất hiện\n",
    "for value in values_check:\n",
    "    if isinstance(value, int) and 0 <= value < 101:\n",
    "        print(value, \" có thể xuất hiện.\")\n",
    "    else:\n",
    "        print(value, \" không thể xuất hiện.\")\n"
   ]
  },
  {
   "cell_type": "code",
   "execution_count": 18,
   "id": "c8ef4473-b325-4092-8438-e6f590242108",
   "metadata": {},
   "outputs": [
    {
     "name": "stdin",
     "output_type": "stream",
     "text": [
      "Nhập tọa độ xA:  5\n",
      "Nhập tọa độ yA:  5\n",
      "Nhập tọa độ xB:  6\n",
      "Nhập tọa độ yB:  7\n"
     ]
    },
    {
     "name": "stdout",
     "output_type": "stream",
     "text": [
      "Độ dài đoạn AB là:  2.23606797749979\n"
     ]
    }
   ],
   "source": [
    "# Câu 7: Tính và xuất độ dài đoạn AB\n",
    "# Nhập toạ độ 2 điểm A(xA,yA), B(xB,yB). Tính và xuất độ dài đoạn AB.\n",
    "\n",
    "from math import sqrt\n",
    "\n",
    "# Nhập tọa độ của hai điểm A và B\n",
    "xA = float(input(\"Nhập tọa độ xA: \"))\n",
    "yA = float(input(\"Nhập tọa độ yA: \"))\n",
    "xB = float(input(\"Nhập tọa độ xB: \"))\n",
    "yB = float(input(\"Nhập tọa độ yB: \"))\n",
    "\n",
    "# Tính độ dài đoạn AB\n",
    "dodai = sqrt((xB - xA)**2 + (yB - yA)**2)\n",
    "\n",
    "# Xuất kết quả\n",
    "print(\"Độ dài đoạn AB là: \", dodai)\n"
   ]
  },
  {
   "cell_type": "code",
   "execution_count": 24,
   "id": "36afe3d6-2aa6-476a-8b11-76c07687ac4d",
   "metadata": {},
   "outputs": [
    {
     "name": "stdin",
     "output_type": "stream",
     "text": [
      "Nhập giá trị a (a > 0 và a ≠ 1):  2\n",
      "Nhập giá trị x (x > 0):  3\n"
     ]
    },
    {
     "name": "stdout",
     "output_type": "stream",
     "text": [
      "Log_ 2.0 ( 3.0 ) = 1.5849625007211563\n"
     ]
    }
   ],
   "source": [
    "# Câu 8 : Viết chương trình tính logax\n",
    "\n",
    "#Yêu cầu:\n",
    "#Viết chương trình tính logax với a, x là các số thực nhập vào từ bàn phím, và x>0, a>0, a != 1.( dùng logax=lnx/lna)\n",
    "\n",
    "\n",
    "from math import log\n",
    "\n",
    "# Nhập giá trị của a và x từ bàn phím\n",
    "a = float(input(\"Nhập giá trị a (a > 0 và a ≠ 1): \"))\n",
    "x = float(input(\"Nhập giá trị x (x > 0): \"))\n",
    "\n",
    "# Kiểm tra điều kiện hợp lệ\n",
    "if a <= 0 or a == 1:\n",
    "    print(\"Giá trị a phải lớn hơn 0 và khác 1.\")\n",
    "elif x <= 0:\n",
    "    print(\"Giá trị x phải lớn hơn 0.\")\n",
    "else:\n",
    "    # Tính loga(x) theo công thức loga(x) = ln(x) / ln(a)\n",
    "    loga_x = log(x) / log(a)\n",
    "\n",
    "    # Xuất kết quả\n",
    "    print(\"Log_\", a, \"(\", x, \") =\", loga_x)\n"
   ]
  },
  {
   "cell_type": "code",
   "execution_count": 26,
   "id": "c52bd178-b16d-4311-89d5-0b29cd9392c8",
   "metadata": {},
   "outputs": [
    {
     "name": "stdin",
     "output_type": "stream",
     "text": [
      "Nhập n:  5\n"
     ]
    },
    {
     "name": "stdout",
     "output_type": "stream",
     "text": [
      "S( 5 ) = 2.0\n"
     ]
    }
   ],
   "source": [
    "# Câu 9 : Viết chương trình tính căn bậc 2 lồng nhau\n",
    "\n",
    "from math import sqrt\n",
    "\n",
    "# Hàm tính S(n)\n",
    "def calculate_S(n):\n",
    "    result = 2  # Khởi tạo với giá trị ban đầu là 2\n",
    "    # Lặp n-1 lần để tính giá trị căn bậc 2 lồng nhau\n",
    "    for i in range(n - 1):\n",
    "        result = sqrt(2 + result)  # Cập nhật giá trị với căn bậc 2\n",
    "    return result\n",
    "\n",
    "# Nhập n từ người dùng\n",
    "n = int(input(\"Nhập n: \"))\n",
    "\n",
    "# Tính và xuất kết quả\n",
    "S_n = calculate_S(n)\n",
    "print(\"S(\",n,\") =\", S_n)\n"
   ]
  },
  {
   "cell_type": "code",
   "execution_count": 28,
   "id": "a8853032-cc2b-4b45-8d16-4050059ada50",
   "metadata": {},
   "outputs": [
    {
     "name": "stdout",
     "output_type": "stream",
     "text": [
      "\n",
      "      *\n",
      "      * *\n",
      "      * * *\n",
      "* * * * * * * \n",
      "* * *\n",
      "* *\n",
      "*\n",
      "\n",
      "\n",
      "      *\n",
      "      * *\n",
      "      *   *\n",
      "* * * * * * * \n",
      "*   *\n",
      "* *\n",
      "*\n",
      "\n",
      "\n",
      "     * * * * \n",
      "     * * * \n",
      "     * *\n",
      "     *\n",
      "   * *\n",
      " * * *\n",
      "* * * *\n",
      "\n",
      "\n",
      "     * * * * \n",
      "     *   * \n",
      "     * *\n",
      "     *\n",
      "   * *\n",
      " *   *\n",
      "* * * *\n",
      "\n"
     ]
    }
   ],
   "source": [
    "# Câu 10\n",
    "\n",
    "import time\n",
    "\n",
    "# Định nghĩa các hình vẽ sao\n",
    "shape1 = '''\n",
    "      *\n",
    "      * *\n",
    "      * * *\n",
    "* * * * * * * \n",
    "* * *\n",
    "* *\n",
    "*\n",
    "'''\n",
    "\n",
    "shape2 = '''\n",
    "      *\n",
    "      * *\n",
    "      *   *\n",
    "* * * * * * * \n",
    "*   *\n",
    "* *\n",
    "*\n",
    "'''\n",
    "\n",
    "shape3 = '''\n",
    "     * * * * \n",
    "     * * * \n",
    "     * *\n",
    "     *\n",
    "   * *\n",
    " * * *\n",
    "* * * *\n",
    "'''\n",
    "\n",
    "shape4 = '''\n",
    "     * * * * \n",
    "     *   * \n",
    "     * *\n",
    "     *\n",
    "   * *\n",
    " *   *\n",
    "* * * *\n",
    "'''\n",
    "\n",
    "# In hình đầu tiên\n",
    "print(shape1)\n",
    "time.sleep(5)  # Tạm dừng 5 giây\n",
    "\n",
    "# In hình thứ hai\n",
    "print(shape2)\n",
    "time.sleep(5)  # Tạm dừng 5 giây\n",
    "\n",
    "# In hình thứ ba\n",
    "print(shape3)\n",
    "time.sleep(5)  # Tạm dừng 5 giây\n",
    "\n",
    "# In hình thứ tư\n",
    "print(shape4)\n"
   ]
  },
  {
   "cell_type": "code",
   "execution_count": 31,
   "id": "0c395f95-c9c1-48df-8108-14a4c9f73852",
   "metadata": {},
   "outputs": [
    {
     "name": "stdout",
     "output_type": "stream",
     "text": [
      "5\n",
      "5\n",
      "0\n"
     ]
    }
   ],
   "source": [
    "# Câu 11: Kiểm tra kết quả thực hiện\n",
    "\n",
    "# Hàm sum1: Tính tổng số lần lặp cho đến khi n giảm về 0\n",
    "def sum1(n):\n",
    "    s = 0  # Khởi tạo biến s để lưu tổng\n",
    "    while n > 0:  # Vòng lặp sẽ tiếp tục khi n > 0\n",
    "        s += 1  # Tăng giá trị s lên 1 trong mỗi vòng lặp\n",
    "        n -= 1  # Giảm n đi 1\n",
    "    return s  # Trả về tổng số lần lặp\n",
    "\n",
    "# Hàm sum2: Sử dụng biến global val để tính tổng số lần lặp\n",
    "def sum2():\n",
    "    global val  # Tham chiếu đến biến global val\n",
    "    s = 0  # Khởi tạo biến s để lưu tổng\n",
    "    while val > 0:  # Vòng lặp sẽ tiếp tục khi val > 0\n",
    "        s += 1  # Tăng giá trị s lên 1 trong mỗi vòng lặp\n",
    "        val -= 1  # Giảm val đi 1\n",
    "    return s  # Trả về tổng số lần lặp\n",
    "\n",
    "# Hàm sum3: Dùng vòng lặp for để tính tổng số lần lặp từ val xuống 1\n",
    "def sum3():\n",
    "    s = 0  # Khởi tạo biến s để lưu tổng\n",
    "    for i in range(val, 0, -1):  # Duyệt từ val đến 1 (giảm dần)\n",
    "        s += 1  # Tăng giá trị s lên 1 trong mỗi vòng lặp\n",
    "    return s  # Trả về tổng số lần lặp\n",
    "\n",
    "# Hàm main: Làm việc với các hàm sum1, sum2, sum3 và in kết quả\n",
    "def main():\n",
    "    global val  # Sử dụng biến global val trong main\n",
    "    val = 5  # Gán giá trị 5 cho val\n",
    "    print(sum1(5))  # Gọi hàm sum1 với n = 5 và in kết quả\n",
    "    print(sum2())  # Gọi hàm sum2 và in kết quả\n",
    "    print(sum3())  # Gọi hàm sum3 và in kết quả\n",
    "\n",
    "# Chạy chương trình chính\n",
    "main()\n"
   ]
  },
  {
   "cell_type": "code",
   "execution_count": null,
   "id": "77eb6e3d-08a7-4bfe-a70f-cb022b45d279",
   "metadata": {},
   "outputs": [],
   "source": []
  }
 ],
 "metadata": {
  "kernelspec": {
   "display_name": "Python [conda env:anaconda3] *",
   "language": "python",
   "name": "conda-env-anaconda3-py"
  },
  "language_info": {
   "codemirror_mode": {
    "name": "ipython",
    "version": 3
   },
   "file_extension": ".py",
   "mimetype": "text/x-python",
   "name": "python",
   "nbconvert_exporter": "python",
   "pygments_lexer": "ipython3",
   "version": "3.13.5"
  }
 },
 "nbformat": 4,
 "nbformat_minor": 5
}
