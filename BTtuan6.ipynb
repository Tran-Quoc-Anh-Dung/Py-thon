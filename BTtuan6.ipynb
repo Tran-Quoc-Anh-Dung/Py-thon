{
 "cells": [
  {
   "cell_type": "code",
   "execution_count": 7,
   "id": "fd68a17d-e5b0-4d2d-b2b9-bd0025ee5351",
   "metadata": {},
   "outputs": [
    {
     "name": "stdout",
     "output_type": "stream",
     "text": [
      "Thank you Maria\n",
      "Thank you Xiao\n"
     ]
    }
   ],
   "source": [
    "# Thực hành HÀM\n",
    "# I In thiệp cảm ơn\n",
    "# 1. Thiệp cảm ơn cơ bản\n",
    "\n",
    "def print_thank_you(ten):\n",
    "    \"\"\"In ra một chuỗi chứa\n",
    "    \"Thank you\" và tên\n",
    "\n",
    "    Tham số\n",
    "    ------------------\n",
    "    tên : string\n",
    "        tên là tên của ai đó\n",
    "    \"\"\"\n",
    "    print(\"Thank you\", ten)\n",
    "print_thank_you(\"Maria\")\n",
    "print_thank_you(\"Xiao\")\n"
   ]
  },
  {
   "cell_type": "code",
   "execution_count": 9,
   "id": "83ccfcf3-de38-47c7-8e93-f2044c955aa4",
   "metadata": {},
   "outputs": [
    {
     "name": "stdout",
     "output_type": "stream",
     "text": [
      "Thank you Mrs Maria Lopez\n",
      "Thank you Mr Xiao Li\n"
     ]
    }
   ],
   "source": [
    "# 2. Thiệp cảm ơn trang trọng\n",
    "\n",
    "def print_thank_you(tiento,ho,ten):\n",
    "    \"\"\"In ra một chuỗi chứa\n",
    "    \"Thank you\" và tên\n",
    "\n",
    "    Tham số\n",
    "    ------------------\n",
    "    tiento : là ông hay bà\n",
    "    họ : string\n",
    "    tên : string\n",
    "        tên là tên của ai đó\n",
    "    \"\"\"\n",
    "    print(\"Thank you\", tiento,ho,ten)\n",
    "print_thank_you(\"Mrs\", \"Maria\", \"Lopez\")\n",
    "print_thank_you(\"Mr\", \"Xiao\", \"Li\")\n"
   ]
  },
  {
   "cell_type": "code",
   "execution_count": 10,
   "id": "5d33d52f-2fa4-4130-82fb-2408b022d345",
   "metadata": {},
   "outputs": [
    {
     "name": "stdout",
     "output_type": "stream",
     "text": [
      "Thank you Mrs Maria Lopez\n",
      "Thank you Mr Xiao \n"
     ]
    }
   ],
   "source": [
    "# 3. Thiếu tên!\n",
    "\n",
    "def print_thank_you(tiento,ho,ten=\"\"):\n",
    "    \"\"\"In ra một chuỗi chứa\n",
    "    \"Thank you\" và tên\n",
    "\n",
    "    Tham số\n",
    "    ------------------\n",
    "    tiento : là ông hay bà\n",
    "    họ : string\n",
    "    tên : string\n",
    "        tên là tên của ai đó đang thiết lập là trống\n",
    "    \"\"\"\n",
    "    print(\"Thank you\", tiento,ho,ten)\n",
    "print_thank_you(\"Mrs\", \"Maria\", \"Lopez\")\n",
    "print_thank_you(\"Mr\", \"Xiao\",)"
   ]
  },
  {
   "cell_type": "code",
   "execution_count": 11,
   "id": "f0b9f073-8db0-41a9-be41-057955817175",
   "metadata": {},
   "outputs": [
    {
     "name": "stdout",
     "output_type": "stream",
     "text": [
      "Ông/bà: Mrs\n",
      "Họ:  Maria\n",
      "Tên: Lopez\n",
      "Thank you Mrs Maria Lopez\n",
      "Ông/bà: \n",
      "Họ:  Xiao\n",
      "Tên: Li\n",
      "Thank you  Xiao Li\n"
     ]
    }
   ],
   "source": [
    "# 4. Thiếu tiền tố và/hoặc họ!\n",
    "\n",
    "def print_thank_you(tiento=\"\",ho=\"\",ten=\"\"):\n",
    "    \"\"\"In ra một chuỗi chứa\n",
    "    \"Thank you\" và tên\n",
    "\n",
    "    Tham số\n",
    "    ------------------\n",
    "    tiento : là ông hay bà (trống)\n",
    "    họ : string (trống)\n",
    "    tên : string\n",
    "        tên là tên của ai đó đang thiết lập là trống\n",
    "    \"\"\"\n",
    "    print(\"Ông/bà:\", tiento)\n",
    "    print(\"Họ: \", ho)\n",
    "    print(\"Tên:\", ten)\n",
    "    print(\"Thank you\", tiento,ho,ten)\n",
    "print_thank_you(\"Mrs\", \"Maria\", \"Lopez\")\n",
    "print_thank_you(ho=\"Xiao\", ten=\"Li\",)"
   ]
  },
  {
   "cell_type": "code",
   "execution_count": 12,
   "id": "2b94a55e-10f9-4a17-816b-207ecdc516ce",
   "metadata": {},
   "outputs": [
    {
     "name": "stdout",
     "output_type": "stream",
     "text": [
      "Test with a single word:\n",
      "Original: python\n",
      "Lowercase: python\n",
      "Uppercase: PYTHON\n",
      "Title Case: Python\n",
      "Swapped Case: python\n",
      "\n",
      "Test with multiple words:\n",
      "Original: summer vacation\n",
      "Lowercase: summer vacation\n",
      "Uppercase: SUMMER VACATION\n",
      "Title Case: Summer Vacation\n",
      "Swapped Case: vacation summer\n",
      "\n",
      "Test with summer_vacation list:\n",
      "Original: Hiking trails\n",
      "Lowercase: hiking trails\n",
      "Uppercase: HIKING TRAILS\n",
      "Title Case: Hiking Trails\n",
      "Swapped Case: trails Hiking\n",
      "\n",
      "Original: weekEndcampIng\n",
      "Lowercase: weekendcamping\n",
      "Uppercase: WEEKENDCAMPING\n",
      "Title Case: Weekendcamping\n",
      "Swapped Case: weekEndcampIng\n",
      "\n",
      "Original: enjoying nature\n",
      "Lowercase: enjoying nature\n",
      "Uppercase: ENJOYING NATURE\n",
      "Title Case: Enjoying Nature\n",
      "Swapped Case: nature enjoying\n",
      "\n",
      "Original: fishing\n",
      "Lowercase: fishing\n",
      "Uppercase: FISHING\n",
      "Title Case: Fishing\n",
      "Swapped Case: fishing\n",
      "\n"
     ]
    }
   ],
   "source": [
    "# Bài tập áp dụng\n",
    "# 1. Các trường hợp chuỗi. Viết một hàm in một chuỗi cho trước dưới dạng chữ thường,\n",
    "# chữ hoa, chữ cái đầu, chữ hoa, và đổi chỗ các chữ cái đầu. Sau đó, gọi hàm hai lần. Thực\n",
    "# hiện một lần với chuỗi gồm một từ, và một lần với chuỗi gồm ít nhất hai từ. Cuối cùng,\n",
    "# gọi hàm cho mỗi phần tử của danh sách các chuỗi sau bằng vòng lặp for:\n",
    "# summer_vacation = [\"Hiking trails\", \"weekEndcampIng\", \"enjoying nature\", \"fishing\"]\n",
    "\n",
    "def transform_string(input_str):\n",
    "    # Chuyển chuỗi thành chữ thường\n",
    "    lower_str = input_str.lower()\n",
    "    \n",
    "    # Chuyển chuỗi thành chữ hoa\n",
    "    upper_str = input_str.upper()\n",
    "    \n",
    "    # Chữ cái đầu của mỗi từ viết hoa\n",
    "    title_str = input_str.title()\n",
    "    \n",
    "    # Đổi chỗ các chữ cái đầu của các từ\n",
    "    words = input_str.split()\n",
    "    if len(words) > 1:\n",
    "        words[0], words[1] = words[1], words[0]\n",
    "        swapped_str = \" \".join(words)\n",
    "    else:\n",
    "        swapped_str = input_str  # Nếu chỉ có một từ, không đổi chỗ được\n",
    "\n",
    "    # In ra kết quả\n",
    "    print(\"Original:\", input_str)\n",
    "    print(\"Lowercase:\", lower_str)\n",
    "    print(\"Uppercase:\", upper_str)\n",
    "    print(\"Title Case:\", title_str)\n",
    "    print(\"Swapped Case:\", swapped_str)\n",
    "    print()\n",
    "\n",
    "# Gọi hàm với chuỗi gồm một từ\n",
    "print(\"Test with a single word:\")\n",
    "transform_string(\"python\")\n",
    "\n",
    "# Gọi hàm với chuỗi gồm ít nhất hai từ\n",
    "print(\"Test with multiple words:\")\n",
    "transform_string(\"summer vacation\")\n",
    "\n",
    "# Gọi hàm cho mỗi phần tử trong danh sách summer_vacation\n",
    "summer_vacation = [\"Hiking trails\", \"weekEndcampIng\", \"enjoying nature\", \"fishing\"]\n",
    "\n",
    "print(\"Test with summer_vacation list:\")\n",
    "for item in summer_vacation:\n",
    "    transform_string(item)\n"
   ]
  },
  {
   "cell_type": "code",
   "execution_count": 14,
   "id": "bb80d5d7-776a-4d39-9616-2f69192f731d",
   "metadata": {},
   "outputs": [
    {
     "name": "stdout",
     "output_type": "stream",
     "text": [
      "Chuỗi có độ dài 6:\n",
      "Hiking\n",
      "\n",
      "Chuỗi có độ dài 7:\n",
      "fishing\n"
     ]
    }
   ],
   "source": [
    "# 2. Độ dài chuỗi. Viết một hàm nhận một danh sách các chuỗi và một số nguyên, và chỉ in\n",
    "# ra các chuỗi có độ dài khớp với số nguyên cho trước. Gọi hàm bằng hai độ dài từ khác nhau.\n",
    "\n",
    "def print_strings_by_length(string_list, length):\n",
    "    # Lọc và in ra các chuỗi có độ dài bằng với length\n",
    "    for string in string_list:\n",
    "        if len(string) == length:\n",
    "            print(string)\n",
    "\n",
    "# Test với hai độ dài chuỗi khác nhau\n",
    "print(\"Chuỗi có độ dài 6:\")\n",
    "strings = [\"Hiking\", \"weekEndcampIng\", \"enjoyingnature\", \"fishing\"]\n",
    "print_strings_by_length(strings, 6)\n",
    "\n",
    "print(\"\\nChuỗi có độ dài 7:\")\n",
    "print_strings_by_length(strings, 7)\n"
   ]
  },
  {
   "cell_type": "code",
   "execution_count": 15,
   "id": "e02a5e67-8a6e-4026-b75f-07d8a8b7e0b9",
   "metadata": {},
   "outputs": [
    {
     "name": "stdout",
     "output_type": "stream",
     "text": [
      "Số chia hết cho 3:\n",
      "15\n",
      "30\n",
      "\n",
      "Số chia hết cho 5:\n",
      "10\n",
      "15\n",
      "20\n",
      "25\n",
      "30\n",
      "35\n",
      "\n",
      "Số chia hết cho 2:\n",
      "10\n",
      "20\n",
      "30\n"
     ]
    }
   ],
   "source": [
    "# 3. Nhiều số. Viết một hàm nhận một danh sách các số và một số nguyên, và chỉ in ra các\n",
    "# số chia hết cho số nguyên đó. Nếu người dùng không cung cấp số, thì hàm sẽ chia cho 2\n",
    "# theo mặc định. Gọi hàm bằng hai ước số khác nhau. Cuối cùng, gọi hàm mà không có ước số.\n",
    "\n",
    "def print_divisible_numbers(numbers, divisor=2):\n",
    "    # In ra các số chia hết cho divisor\n",
    "    for num in numbers:\n",
    "        if num % divisor == 0:\n",
    "            print(num)\n",
    "\n",
    "# Test với các ước số khác nhau\n",
    "print(\"Số chia hết cho 3:\")\n",
    "numbers = [10, 15, 20, 25, 30, 35]\n",
    "print_divisible_numbers(numbers, 3)\n",
    "\n",
    "print(\"\\nSố chia hết cho 5:\")\n",
    "print_divisible_numbers(numbers, 5)\n",
    "\n",
    "# Gọi hàm mà không có ước số (sử dụng mặc định là 2)\n",
    "print(\"\\nSố chia hết cho 2:\")\n",
    "print_divisible_numbers(numbers)\n"
   ]
  },
  {
   "cell_type": "code",
   "execution_count": 16,
   "id": "f74a130e-5863-415a-9843-54c2fb4ccf00",
   "metadata": {},
   "outputs": [
    {
     "name": "stdin",
     "output_type": "stream",
     "text": [
      "Nhập một số:  5\n"
     ]
    },
    {
     "name": "stdout",
     "output_type": "stream",
     "text": [
      "{1: 2, 2: 4, 3: 6, 4: 8, 5: 10}\n"
     ]
    }
   ],
   "source": [
    "# 4. Nhân đôi số. Viết một hàm yêu cầu người dùng nhập một số và in ra một từ điển trong\n",
    "# đó các khóa là các số có giá trị nhỏ hơn số đầu vào, và các giá trị là số kép của mỗi khóa.\n",
    "# Lưu ý rằng hàm không nhận bất kỳ đối số nào. Hàm input() để yêu cầu nhập số nằm bên\n",
    "# trong hàm.\n",
    "# (Ví dụ: người dùng nhập: 5\n",
    "# Kết quả mong đợi: {1: 2, 2: 4, 3: 6, 4: 8, 5: 10})\n",
    "\n",
    "def double_numbers():\n",
    "    # Yêu cầu người dùng nhập một số\n",
    "    n = int(input(\"Nhập một số: \"))\n",
    "    \n",
    "    # Tạo từ điển với các khóa là các số từ 1 đến n, giá trị là số kép của các khóa\n",
    "    result = {i: i * 2 for i in range(1, n + 1)}\n",
    "    \n",
    "    # In kết quả\n",
    "    print(result)\n",
    "\n",
    "# Gọi hàm\n",
    "double_numbers()\n"
   ]
  },
  {
   "cell_type": "code",
   "execution_count": 18,
   "id": "012eae1c-b9af-4f9a-a4cd-f71c2b584258",
   "metadata": {},
   "outputs": [
    {
     "name": "stdout",
     "output_type": "stream",
     "text": [
      "dao\n"
     ]
    }
   ],
   "source": [
    "# Bài tập áp dụng \n",
    "# Vé xem miễn phí tại cửa hàng\n",
    "\n",
    "import random\n",
    "\n",
    "def random_word(words):\n",
    "    # Chọn một từ ngẫu nhiên và chuyển nó thành chữ thường\n",
    "    selected_word = random.choice(words).lower()\n",
    "    return selected_word\n",
    "\n",
    "# Ví dụ sử dụng hàm\n",
    "words_list = [\"muỗng\", \"Nĩa\", \"DAO\"]\n",
    "result = random_word(words_list)\n",
    "print(result)\n"
   ]
  },
  {
   "cell_type": "code",
   "execution_count": 20,
   "id": "3178e433-bcc0-4117-b7b5-9cfb4d0b8e3d",
   "metadata": {},
   "outputs": [
    {
     "name": "stdout",
     "output_type": "stream",
     "text": [
      "__ll_\n"
     ]
    }
   ],
   "source": [
    "# 2. Hiển thị các chữ cái đã đoán. Tạo một hàm vệ tinh cho một từ và một chữ cái đã đoán,\n",
    "# hiển thị từ với chữ cái đã đoán được hiển thị đúng vị trí, trong khi các chữ cái còn lại,\n",
    "# chưa đoán được, được hiển thị dưới dạng dấu gạch dưới.\n",
    "# (Ví dụ: đầu vào: (\"l\", \"hello\"). Ví dụ: đầu ra: _ _ l l _).\n",
    "\n",
    "def display_guessed_letters(guessed_letter, word):\n",
    "    # Tạo chuỗi kết quả, với các chữ cái đã đoán được hiển thị và các chữ cái chưa đoán là \"_\"\n",
    "    result = ''.join([letter if letter == guessed_letter else '_' for letter in word])\n",
    "    return result\n",
    "\n",
    "# Ví dụ sử dụng hàm\n",
    "guessed = \"l\"\n",
    "word = \"hello\"\n",
    "result = display_guessed_letters(guessed, word)\n",
    "print(result)\n"
   ]
  },
  {
   "cell_type": "code",
   "execution_count": null,
   "id": "97478a39-9f8d-4db7-921a-81b637bc5638",
   "metadata": {},
   "outputs": [],
   "source": []
  }
 ],
 "metadata": {
  "kernelspec": {
   "display_name": "Python [conda env:base] *",
   "language": "python",
   "name": "conda-base-py"
  },
  "language_info": {
   "codemirror_mode": {
    "name": "ipython",
    "version": 3
   },
   "file_extension": ".py",
   "mimetype": "text/x-python",
   "name": "python",
   "nbconvert_exporter": "python",
   "pygments_lexer": "ipython3",
   "version": "3.13.5"
  }
 },
 "nbformat": 4,
 "nbformat_minor": 5
}
