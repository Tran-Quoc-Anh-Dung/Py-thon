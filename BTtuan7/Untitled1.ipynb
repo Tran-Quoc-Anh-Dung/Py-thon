{
 "cells": [
  {
   "cell_type": "code",
   "execution_count": 4,
   "id": "52fad38d-2c4a-41d4-9f47-2f1f7f03450f",
   "metadata": {},
   "outputs": [
    {
     "name": "stdout",
     "output_type": "stream",
     "text": [
      "jgelb\n"
     ]
    }
   ],
   "source": [
    "import setup_database\n",
    "username = setup_database.create_username (\"Join\", \"Gelb\")\n",
    "print(username)"
   ]
  },
  {
   "cell_type": "code",
   "execution_count": 5,
   "id": "31b2deb3",
   "metadata": {},
   "outputs": [
    {
     "name": "stdout",
     "output_type": "stream",
     "text": [
      "jgelb\n"
     ]
    }
   ],
   "source": [
    "import setup_database as sdb\n",
    "#lúc này  sdb  như là setup_database \"as\"\n",
    "username = sdb.create_username(\"Join\", \"Gelb\")\n",
    "print(username)"
   ]
  },
  {
   "cell_type": "code",
   "execution_count": 6,
   "id": "c9026a3b",
   "metadata": {},
   "outputs": [
    {
     "name": "stdout",
     "output_type": "stream",
     "text": [
      "jgelb\n"
     ]
    }
   ],
   "source": [
    "from setup_database import create_username\n",
    "# gọi  trực tiếp hàm đó\n",
    "username = create_username(\"Join\", \"Gelb\")\n",
    "print(username)"
   ]
  }
 ],
 "metadata": {
  "kernelspec": {
   "display_name": "base",
   "language": "python",
   "name": "python3"
  },
  "language_info": {
   "codemirror_mode": {
    "name": "ipython",
    "version": 3
   },
   "file_extension": ".py",
   "mimetype": "text/x-python",
   "name": "python",
   "nbconvert_exporter": "python",
   "pygments_lexer": "ipython3",
   "version": "3.13.5"
  }
 },
 "nbformat": 4,
 "nbformat_minor": 5
}
